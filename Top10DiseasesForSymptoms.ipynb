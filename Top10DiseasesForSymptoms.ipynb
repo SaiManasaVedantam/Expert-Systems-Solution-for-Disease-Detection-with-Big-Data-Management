{
 "cells": [
  {
   "cell_type": "markdown",
   "id": "d46b310d-68ac-4d6c-9d82-37687ee40bdb",
   "metadata": {},
   "source": [
    "## This module finds top 10 possible diseases based on each ML model for given symptoms"
   ]
  },
  {
   "cell_type": "code",
   "execution_count": 1,
   "id": "045d3cb7-b0d4-4c0a-bb08-5d3e666f0d2d",
   "metadata": {},
   "outputs": [],
   "source": [
    "# Filter & ignore warnings for clear output visualization\n",
    "\n",
    "import warnings\n",
    "warnings.filterwarnings(\"ignore\")"
   ]
  },
  {
   "cell_type": "code",
   "execution_count": 2,
   "id": "7dd7c340-58cd-450f-bc15-5219c06f661f",
   "metadata": {},
   "outputs": [],
   "source": [
    "# Import all necessary packages\n",
    "\n",
    "import pandas as pd\n",
    "from statistics import mean\n",
    "from sklearn.naive_bayes import MultinomialNB\n",
    "from sklearn.neighbors import KNeighborsClassifier\n",
    "from sklearn.ensemble import RandomForestClassifier\n",
    "from sklearn.linear_model import LogisticRegression\n",
    "from sklearn.model_selection import cross_val_score"
   ]
  },
  {
   "cell_type": "markdown",
   "id": "7d01daba-ed23-4906-afdc-1e440433ec74",
   "metadata": {},
   "source": [
    "### Functions to process prediction results obtained from ML models to obtain list of diseases & display them"
   ]
  },
  {
   "cell_type": "code",
   "execution_count": 3,
   "id": "9a3bf671-cfc2-445e-9e1d-9ad251e90714",
   "metadata": {},
   "outputs": [],
   "source": [
    "def ProcessResultAndGenerateDiseases(top10_list, mean_score):\n",
    "    \n",
    "    global df_independent, all_symptoms, all_diseases, processed_symptoms\n",
    "    #top10_dict = {}\n",
    "    top10_diseases = []\n",
    "\n",
    "    # Checks for each disease, the matched symptoms & generates probability of having that disease\n",
    "    for (idx, disease_id) in enumerate(top10_list):\n",
    "        matched_symptoms = set()\n",
    "        top10 = df_independent.loc[df_independent['Disease_Name'] == all_diseases[disease_id]].values.tolist()\n",
    "        \n",
    "        # Obtains the disease name which is at the top of the dataframe\n",
    "        disease = top10[0].pop(0)\n",
    "\n",
    "        # Each row contains 0s & 1s indicating whether a disease is associated with a particular symptom or not\n",
    "        for (idx, value) in enumerate(top10[0]):\n",
    "            if value != 0:\n",
    "                matched_symptoms.add(all_symptoms[idx])\n",
    "                \n",
    "        #probability = (len(matched_symptoms.intersection(set(processed_symptoms))) + 1) / (len(set(processed_symptoms)) + 1)\n",
    "        #top10_dict[disease] = round(probability * mean_score * 100, 2)\n",
    "        top10_diseases.append(disease)\n",
    "    \n",
    "    #top10_sorted = dict(sorted(top10_dict.items(), key=lambda kv: kv[1], reverse=True))\n",
    "    return sorted(top10_diseases)    #top10_sorted\n",
    "\n",
    "\n",
    "# Function to display the results\n",
    "def PrintResults(top10_sorted_dict):\n",
    "    for (key, value) in top10_sorted_dict.items():\n",
    "        print(key, \"\\t\", value, \"%\")\n",
    "\n",
    "\n",
    "# Function to print list contents\n",
    "def printList(list_data):\n",
    "    for item in list_data:\n",
    "        print(item)\n",
    "        "
   ]
  },
  {
   "cell_type": "markdown",
   "id": "47463f7c-1a4e-4ce9-9577-75c19377915a",
   "metadata": {},
   "source": [
    "### Prepares data to be compatible with the dataset to make predictions"
   ]
  },
  {
   "cell_type": "code",
   "execution_count": 4,
   "id": "c0cf07e3-e84f-4211-8936-18a0b2337536",
   "metadata": {},
   "outputs": [],
   "source": [
    "# Load datasets for all possible combinations & for individual disease's respective symptoms\n",
    "df_combination = pd.read_csv(\"./Disease_Symptom_Dataset_For_All_Symptom_Subsets.csv\") \n",
    "df_independent = pd.read_csv(\"./Disease_Symptom_Dataset_For_Respective_Symptoms.csv\") \n",
    "\n",
    "X_combination = df_combination.iloc[:, 1:]\n",
    "Y_combination = df_combination.iloc[:, 0:1]\n",
    "\n",
    "X_independent = df_independent.iloc[:, 1:]\n",
    "Y_independent = df_independent.iloc[:, 0:1]\n",
    "\n",
    "# List of all possible symptoms\n",
    "all_symptoms = list(X_independent.columns)\n",
    "all_diseases = list(set(Y_independent['Disease_Name']))\n",
    "all_diseases.sort()\n",
    "\n",
    "# We obtain top 10 possible diseases\n",
    "no_of_diseases = 10\n"
   ]
  },
  {
   "cell_type": "code",
   "execution_count": 5,
   "id": "ad4139cc-7bea-4dba-ae62-a1735adb32d1",
   "metadata": {},
   "outputs": [
    {
     "name": "stdout",
     "output_type": "stream",
     "text": [
      "unexplained weight loss\n",
      "headache\n",
      "prolonged cough\n",
      "fever\n",
      "confusion\n",
      "tiredness\n",
      "weakness\n",
      "feel need check thing repeatedly\n",
      "certain thought repeatedly\n",
      "perform certain routine repeatedly\n"
     ]
    }
   ],
   "source": [
    "# Will be obtained from the front-end\n",
    "user_symptoms = [\"unexplained weight loss\", \"headache\", \"prolonged cough\", \"fever\", \"confusion\", \"tiredness\", \"weakness\",\n",
    "                 \"feel need check thing repeatedly\", \"certain thought repeatedly\", \"perform certain routine repeatedly\"]\n",
    "\n",
    "# Process obtained symptoms to create rows compatible with the dataset\n",
    "processed_symptoms = [0 for x in range(0, len(all_symptoms))]\n",
    "for symptom in user_symptoms:\n",
    "    processed_symptoms[all_symptoms.index(symptom)]=1\n",
    "    print(symptom)\n",
    "    "
   ]
  },
  {
   "cell_type": "markdown",
   "id": "19f3f881-0355-4668-9777-e53d239f516b",
   "metadata": {},
   "source": [
    "### Uses 4 Machine Learning models to obtain possible predictions (Takes 3 mins)"
   ]
  },
  {
   "cell_type": "code",
   "execution_count": 6,
   "id": "8b0830eb-0b32-4ed5-b6dd-da6c88a2b6c1",
   "metadata": {},
   "outputs": [
    {
     "name": "stdout",
     "output_type": "stream",
     "text": [
      "Processing with Logistic Regression...\n",
      "Done\n"
     ]
    }
   ],
   "source": [
    "# Create Logistic Regression Classifier & fit the data to it\n",
    "print(\"Processing with Logistic Regression...\")\n",
    "\n",
    "lr_classifier = LogisticRegression()\n",
    "lr_classifier = lr_classifier.fit(X_combination, Y_combination)\n",
    "\n",
    "# Obtain cross-validation scores & make predictions\n",
    "lr_scores = cross_val_score(lr_classifier, X_combination, Y_combination, cv=5)\n",
    "lr_mean_score = mean(lr_scores)\n",
    "lr_result = lr_classifier.predict_proba([processed_symptoms])\n",
    "\n",
    "print(\"Done\")\n"
   ]
  },
  {
   "cell_type": "code",
   "execution_count": 7,
   "id": "cf1093eb-6743-4257-9353-a5ceed6d2188",
   "metadata": {},
   "outputs": [
    {
     "name": "stdout",
     "output_type": "stream",
     "text": [
      "Processing with Random Forest Classifier...\n",
      "Done\n"
     ]
    }
   ],
   "source": [
    "# Create Random Forest Classifier & fit the data to it\n",
    "print(\"Processing with Random Forest Classifier...\")\n",
    "\n",
    "rf_classifier = RandomForestClassifier(n_estimators=10, criterion='entropy')\n",
    "rf_classifier = rf_classifier.fit(X_combination, Y_combination)\n",
    "\n",
    "# Obtain cross-validation scores & make predictions\n",
    "rf_scores = cross_val_score(rf_classifier, X_combination, Y_combination, cv=5)\n",
    "rf_mean_score = mean(rf_scores)\n",
    "rf_result = rf_classifier.predict_proba([processed_symptoms])\n",
    "\n",
    "print(\"Done\")\n"
   ]
  },
  {
   "cell_type": "code",
   "execution_count": 8,
   "id": "13bdd5b3-4ba5-4f01-a979-4062c56850a0",
   "metadata": {},
   "outputs": [
    {
     "name": "stdout",
     "output_type": "stream",
     "text": [
      "Processing with KNN Classifier...\n",
      "Done\n"
     ]
    }
   ],
   "source": [
    "# Create KNN Classifier & fit the data to it\n",
    "print(\"Processing with KNN Classifier...\")\n",
    "\n",
    "knn_classifier = KNeighborsClassifier(n_neighbors=7, weights='distance', n_jobs=4)\n",
    "knn_classifier = knn_classifier.fit(X_combination, Y_combination)\n",
    "\n",
    "# Obtain cross-validation scores & make predictions\n",
    "knn_scores = cross_val_score(knn_classifier, X_combination, Y_combination, cv=5)\n",
    "knn_mean_score = mean(knn_scores)\n",
    "knn_result = knn_classifier.predict_proba([processed_symptoms])\n",
    "    \n",
    "print(\"Done\")\n"
   ]
  },
  {
   "cell_type": "code",
   "execution_count": 9,
   "id": "2c95dde0-59ce-4300-92b0-d32cb039541c",
   "metadata": {},
   "outputs": [
    {
     "name": "stdout",
     "output_type": "stream",
     "text": [
      "Processing with Multinomial Naive Bayes...\n",
      "Done\n"
     ]
    }
   ],
   "source": [
    "# Create Multinomial Naive Bayes Classifier & fit the data to it\n",
    "print(\"Processing with Multinomial Naive Bayes...\")\n",
    "\n",
    "mnb_classifier = MultinomialNB()\n",
    "mnb_classifier = mnb_classifier.fit(X_combination, Y_combination)\n",
    "\n",
    "# Obtain cross-validation scores & make predictions\n",
    "mnb_scores = cross_val_score(mnb_classifier, X_combination, Y_combination, cv=5)\n",
    "mnb_mean_score = mean(mnb_scores)\n",
    "mnb_result = mnb_classifier.predict_proba([processed_symptoms])\n",
    "\n",
    "print(\"Done\")\n"
   ]
  },
  {
   "cell_type": "markdown",
   "id": "ae0746e8-8111-462e-b7e2-f7f208fbd985",
   "metadata": {},
   "source": [
    "### Generate top 10 diseases associated with the symptoms from ML models' prediction results"
   ]
  },
  {
   "cell_type": "code",
   "execution_count": 10,
   "id": "a819335f-a778-40ce-a9a0-c3f7f6f70a19",
   "metadata": {},
   "outputs": [
    {
     "name": "stdout",
     "output_type": "stream",
     "text": [
      "---------- LOGISTIC REGRESSION: ----------\n",
      "\n",
      "Acute encephalitis syndrome\n",
      "Anaemia during pregnancy (maternal anemia)\n",
      "Carbon monoxide poisoning\n",
      "Chickenpox\n",
      "Japanese encephalitis\n",
      "Lyme disease\n",
      "Nipah virus infection\n",
      "Obsessive compulsive disorder\n",
      "Paratyphoid fever\n",
      "Plague\n",
      "\n",
      "---------- RANDOM FOREST: ----------\n",
      "\n",
      "Acute encephalitis syndrome\n",
      "Anaemia\n",
      "Cancer\n",
      "Carbon monoxide poisoning\n",
      "Chickenpox\n",
      "Japanese encephalitis\n",
      "Lyme disease\n",
      "Lymphoma\n",
      "Paratyphoid fever\n",
      "Plague\n",
      "\n",
      "---------- KNN CLASSIFIER: ----------\n",
      "\n",
      "Acute encephalitis syndrome\n",
      "Anaemia during pregnancy (maternal anemia)\n",
      "Chickenpox\n",
      "Exposure keratopathy\n",
      "Filamentary keratitis\n",
      "Japanese encephalitis\n",
      "Lyme disease\n",
      "Nipah virus infection\n",
      "Plague\n",
      "Zika virus disease\n",
      "\n",
      "---------- MULTINOMIAL NAIVE BAYES: ----------\n",
      "\n",
      "Acute encephalitis syndrome\n",
      "Anaemia during pregnancy (maternal anemia)\n",
      "Carbon monoxide poisoning\n",
      "Chickenpox\n",
      "Ebola\n",
      "Japanese encephalitis\n",
      "Lyme disease\n",
      "Lymphoma\n",
      "Nipah virus infection\n",
      "Paratyphoid fever\n"
     ]
    }
   ],
   "source": [
    "# Logistic Regression result\n",
    "print(\"---------- LOGISTIC REGRESSION: ----------\\n\")\n",
    "\n",
    "lr_top10 = lr_result[0].argsort()[-no_of_diseases:][::-1]\n",
    "lr_list = ProcessResultAndGenerateDiseases(lr_top10, lr_mean_score)\n",
    "printList(lr_list)\n",
    "\n",
    "# Random Forest result\n",
    "print(\"\\n---------- RANDOM FOREST: ----------\\n\")\n",
    "\n",
    "rf_top10 = rf_result[0].argsort()[-no_of_diseases:][::-1]\n",
    "rf_list = ProcessResultAndGenerateDiseases(rf_top10, rf_mean_score)\n",
    "printList(rf_list)\n",
    "\n",
    "# Knn Result\n",
    "print(\"\\n---------- KNN CLASSIFIER: ----------\\n\")\n",
    "\n",
    "knn_top10 = knn_result[0].argsort()[-no_of_diseases:][::-1]\n",
    "knn_list = ProcessResultAndGenerateDiseases(knn_top10, knn_mean_score)\n",
    "printList(knn_list)\n",
    "\n",
    "# Multinomial Naive bayes Result\n",
    "print(\"\\n---------- MULTINOMIAL NAIVE BAYES: ----------\\n\")\n",
    "\n",
    "mnb_top10 = mnb_result[0].argsort()[-no_of_diseases:][::-1]\n",
    "mnb_list = ProcessResultAndGenerateDiseases(mnb_top10, mnb_mean_score)\n",
    "printList(mnb_list)\n",
    "\n",
    "# lr_list, rf_list, knn_list and mnb_list must be stored in DB & processed to be useful in the UI\n"
   ]
  },
  {
   "cell_type": "code",
   "execution_count": null,
   "id": "c7e09a11-f998-4946-91b7-38fe80782146",
   "metadata": {},
   "outputs": [],
   "source": []
  }
 ],
 "metadata": {
  "kernelspec": {
   "display_name": "Python 3",
   "language": "python",
   "name": "python3"
  },
  "language_info": {
   "codemirror_mode": {
    "name": "ipython",
    "version": 3
   },
   "file_extension": ".py",
   "mimetype": "text/x-python",
   "name": "python",
   "nbconvert_exporter": "python",
   "pygments_lexer": "ipython3",
   "version": "3.8.8"
  }
 },
 "nbformat": 4,
 "nbformat_minor": 5
}
